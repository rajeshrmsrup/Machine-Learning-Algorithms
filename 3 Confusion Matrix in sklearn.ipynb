{
 "cells": [
  {
   "cell_type": "markdown",
   "id": "3e60dd19",
   "metadata": {},
   "source": [
    "### // Implementation of Confusion Matrix in sklearn. //"
   ]
  },
  {
   "cell_type": "code",
   "execution_count": 3,
   "id": "c646de33",
   "metadata": {},
   "outputs": [
    {
     "name": "stdout",
     "output_type": "stream",
     "text": [
      "---Confusion Matrix---\n",
      " [[2 2]\n",
      " [1 5]]\n",
      "Outcome vaues:  2 2 1 5\n",
      "---Classification report---\n",
      "               precision    recall  f1-score   support\n",
      "\n",
      "           1       0.67      0.50      0.57         4\n",
      "           0       0.71      0.83      0.77         6\n",
      "\n",
      "    accuracy                           0.70        10\n",
      "   macro avg       0.69      0.67      0.67        10\n",
      "weighted avg       0.70      0.70      0.69        10\n",
      "\n"
     ]
    }
   ],
   "source": [
    "# Confusion Matrix in sklearn\n",
    "from sklearn.metrics import confusion_matrix\n",
    "from sklearn.metrics import classification_report\n",
    "# actual values\n",
    "actual = [1, 0, 0, 1, 0, 0, 1, 0, 0, 1]\n",
    "\n",
    "# predicted values\n",
    "predicted = [1, 0, 0, 1, 0, 0, 0, 1, 0, 0]\n",
    "\n",
    "# confusion matrix\n",
    "matrix = confusion_matrix(actual, predicted, labels=[1, 0])\n",
    "print(\"---Confusion Matrix---\\n\", matrix)\n",
    "\n",
    "# outcome values order in sklearn\n",
    "tp, fn, fp, tn = confusion_matrix(actual, predicted, labels=[1,0]).reshape(-1)\n",
    "print(\"Outcome values: \", tp, fn, fp, tn)\n",
    "\n",
    "# classification report for precision, recall f1-score and accuracy\n",
    "matrix = classification_report(actual, predicted, labels=[1,0])\n",
    "print(\"---Classification report---\\n\", matrix)"
   ]
  },
  {
   "cell_type": "code",
   "execution_count": null,
   "id": "a2be1e26",
   "metadata": {},
   "outputs": [],
   "source": []
  }
 ],
 "metadata": {
  "kernelspec": {
   "display_name": "Python 3 (ipykernel)",
   "language": "python",
   "name": "python3"
  },
  "language_info": {
   "codemirror_mode": {
    "name": "ipython",
    "version": 3
   },
   "file_extension": ".py",
   "mimetype": "text/x-python",
   "name": "python",
   "nbconvert_exporter": "python",
   "pygments_lexer": "ipython3",
   "version": "3.9.13"
  }
 },
 "nbformat": 4,
 "nbformat_minor": 5
}
