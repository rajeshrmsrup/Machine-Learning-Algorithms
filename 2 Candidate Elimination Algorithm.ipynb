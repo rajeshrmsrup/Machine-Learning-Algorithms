{
 "cells": [
  {
   "cell_type": "markdown",
   "id": "f25b398c",
   "metadata": {},
   "source": [
    "### // Implementation of Candidate Elimination algorithm //"
   ]
  },
  {
   "cell_type": "code",
   "execution_count": 1,
   "id": "5e3a3088",
   "metadata": {},
   "outputs": [
    {
     "name": "stdout",
     "output_type": "stream",
     "text": [
      "[['ï»¿sky', 'airtemp', 'humidity', 'wind', 'water', 'forcast', 'enjoysport'], ['sunny', 'warm', 'normal', 'strong', 'warm', 'same', 'yes'], ['sunny', 'warm', 'high', 'strong', 'warm', 'same', 'yes'], ['rainy', 'cold', 'high', 'strong', 'warm', 'change', 'no'], ['sunny', 'warm', 'high', 'strong', 'cool', 'change', 'yes']]\n",
      "\n",
      " ['sunny', 'warm', 'normal', 'strong', 'warm', 'same']\n",
      "\n",
      "Steps of Candidate Elimination Algorithm: 5\n",
      "\n",
      " ['sunny', 'warm', '?', 'strong', '?', '?']\n",
      "\n",
      " [['sunny', '?', '?', '?', '?', '?'], ['?', 'warm', '?', '?', '?', '?'], ['?', '?', '?', '?', '?', '?'], ['?', '?', '?', '?', '?', '?'], ['?', '?', '?', '?', '?', '?'], ['?', '?', '?', '?', '?', '?']]\n"
     ]
    }
   ],
   "source": [
    "import csv\n",
    "with open('enjoysport.csv', 'r') as file:\n",
    "    file = csv.reader(file)\n",
    "    dataList = list(file)\n",
    "    print(dataList)\n",
    "    \n",
    "    s = dataList[1][:-1]\n",
    "    print(\"\\n\",s)\n",
    "    \n",
    "    g = [['?' for i in range(len(s))] for j in range(len(s))]\n",
    "    for i in dataList:\n",
    "        if(i[-1] == 'yes'):\n",
    "            for j in range(len(s)):\n",
    "                if(i[j] != s[j]):\n",
    "                    s[j] = '?'\n",
    "                    g[j][j] = '?'\n",
    "        elif(i[-1] == 'no'):\n",
    "            for j in range(len(s)):\n",
    "                if(i[j] != s[j]):\n",
    "                    g[j][j] = s[j]\n",
    "                else:\n",
    "                    g[j][j] = '?'\n",
    "    print(\"\\nSteps of Candidate Elimination Algorithm:\", dataList.index(i)+1)\n",
    "    print(\"\\n\", s)\n",
    "    print(\"\\n\", g)"
   ]
  },
  {
   "cell_type": "code",
   "execution_count": null,
   "id": "7fdfb41f",
   "metadata": {},
   "outputs": [],
   "source": []
  }
 ],
 "metadata": {
  "kernelspec": {
   "display_name": "Python 3 (ipykernel)",
   "language": "python",
   "name": "python3"
  },
  "language_info": {
   "codemirror_mode": {
    "name": "ipython",
    "version": 3
   },
   "file_extension": ".py",
   "mimetype": "text/x-python",
   "name": "python",
   "nbconvert_exporter": "python",
   "pygments_lexer": "ipython3",
   "version": "3.9.13"
  }
 },
 "nbformat": 4,
 "nbformat_minor": 5
}
