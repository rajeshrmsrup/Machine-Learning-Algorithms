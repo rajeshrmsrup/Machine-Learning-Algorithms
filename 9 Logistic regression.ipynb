{
 "cells": [
  {
   "cell_type": "markdown",
   "id": "2e923e02",
   "metadata": {},
   "source": [
    "# Logistic Regression"
   ]
  },
  {
   "cell_type": "code",
   "execution_count": 18,
   "id": "49232e33",
   "metadata": {},
   "outputs": [
    {
     "name": "stdout",
     "output_type": "stream",
     "text": [
      "[0]\n",
      "[[0.50919565]\n",
      " [0.11924565]\n",
      " [0.07368034]\n",
      " [0.00409098]\n",
      " [0.04336508]\n",
      " [0.03916025]\n",
      " [0.8543618 ]\n",
      " [0.71776492]\n",
      " [0.86176373]\n",
      " [0.76157879]\n",
      " [0.47502454]\n",
      " [0.96187918]\n",
      " [0.2352388 ]\n",
      " [0.34364962]]\n"
     ]
    }
   ],
   "source": [
    "# Logistic Regression\n",
    "import numpy as np\n",
    "from sklearn import linear_model as lm\n",
    "\n",
    "# Reshaped fro logistic function\n",
    "x = np.array([3.78, 2.44, 2.09, 0.14, 1.72, 1.65, 4.92, 4.37, 4.96, 4.52, 3.69, 5.88, 2.98, 3.33]).reshape(-1,1)\n",
    "y = np.array([0, 0, 0, 0, 0, 0, 1, 1, 1, 1, 1, 1, 0, 0])\n",
    "\n",
    "logr = lm.LogisticRegression()\n",
    "logr.fit(x, y)\n",
    "\n",
    "# Predict for the size is 3.46mm\n",
    "predicted = logr.predict(np.array([3.46]).reshape(-1,1))\n",
    "print(predicted)\n",
    "\n",
    "def logit2prob(logr, x):\n",
    "    log_odds = logr.coef_*x + logr.intercept_\n",
    "    odds = np.exp(log_odds)\n",
    "    probability = odds/(1+odds)\n",
    "    return probability\n",
    "print(logit2prob(logr, x))"
   ]
  },
  {
   "cell_type": "code",
   "execution_count": null,
   "id": "90a2204d",
   "metadata": {},
   "outputs": [],
   "source": []
  },
  {
   "cell_type": "code",
   "execution_count": null,
   "id": "eb16e1fc",
   "metadata": {},
   "outputs": [],
   "source": []
  }
 ],
 "metadata": {
  "kernelspec": {
   "display_name": "Python 3 (ipykernel)",
   "language": "python",
   "name": "python3"
  },
  "language_info": {
   "codemirror_mode": {
    "name": "ipython",
    "version": 3
   },
   "file_extension": ".py",
   "mimetype": "text/x-python",
   "name": "python",
   "nbconvert_exporter": "python",
   "pygments_lexer": "ipython3",
   "version": "3.9.13"
  }
 },
 "nbformat": 4,
 "nbformat_minor": 5
}
