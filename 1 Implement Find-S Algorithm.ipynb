{
 "cells": [
  {
   "cell_type": "markdown",
   "id": "259aa58c",
   "metadata": {},
   "source": [
    "### // Implementation of Find-S algorithm. //"
   ]
  },
  {
   "cell_type": "code",
   "execution_count": 1,
   "id": "31619370",
   "metadata": {},
   "outputs": [
    {
     "name": "stdout",
     "output_type": "stream",
     "text": [
      "[['ï»¿sky', 'airtemp', 'humidity', 'wind', 'water', 'forcast', 'enjoysport'], ['sunny', 'warm', 'normal', 'strong', 'warm', 'same', 'yes'], ['sunny', 'warm', 'high', 'strong', 'warm', 'same', 'yes'], ['rainy', 'cold', 'high', 'strong', 'warm', 'change', 'no'], ['sunny', 'warm', 'high', 'strong', 'cool', 'change', 'yes']]\n",
      "\n",
      "The total no. of training instances are: 4\n",
      "The total no. of numeric attributes are: 6\n",
      "The initial hypothesis is: ['0', '0', '0', '0', '0', '0']\n",
      "['sunny', '0', '0', '0', '0', '0']\n",
      "['sunny', 'warm', '0', '0', '0', '0']\n",
      "['sunny', 'warm', 'normal', '0', '0', '0']\n",
      "['sunny', 'warm', 'normal', 'strong', '0', '0']\n",
      "['sunny', 'warm', 'normal', 'strong', 'warm', '0']\n",
      "['sunny', 'warm', 'normal', 'strong', 'warm', 'same']\n",
      "['sunny', 'warm', 'normal', 'strong', 'warm', 'same']\n",
      "['sunny', 'warm', 'normal', 'strong', 'warm', 'same']\n",
      "['sunny', 'warm', '?', 'strong', 'warm', 'same']\n",
      "['sunny', 'warm', '?', 'strong', 'warm', 'same']\n",
      "['sunny', 'warm', '?', 'strong', 'warm', 'same']\n",
      "['sunny', 'warm', '?', 'strong', 'warm', 'same']\n",
      "['sunny', 'warm', '?', 'strong', 'warm', 'same']\n",
      "['sunny', 'warm', '?', 'strong', 'warm', 'same']\n",
      "['sunny', 'warm', '?', 'strong', 'warm', 'same']\n",
      "['sunny', 'warm', '?', 'strong', 'warm', 'same']\n",
      "['sunny', 'warm', '?', 'strong', '?', 'same']\n",
      "['sunny', 'warm', '?', 'strong', '?', '?']\n",
      "\n",
      "The hypothesis for the training instance 4 is: ['sunny', 'warm', '?', 'strong', '?', '?']\n",
      "The specific hypothesis for the training instance is: ['sunny', 'warm', '?', 'strong', '?', '?']\n"
     ]
    }
   ],
   "source": [
    "import csv\n",
    "lst = []\n",
    "with open('enjoysport.csv', 'r') as file:\n",
    "    for row in csv.reader(file):\n",
    "        lst.append(row)\n",
    "    print(lst)\n",
    "    \n",
    "    print(\"\\nThe total no. of training instances are:\", len(lst)-1)\n",
    "    num_at = len(lst[0])-1\n",
    "    print(\"The total no. of numeric attributes are:\", num_at)\n",
    "    hypothesis = ['0']*num_at\n",
    "    print(\"The initial hypothesis is:\", hypothesis)\n",
    "    \n",
    "    for i in range(0, len(lst)):\n",
    "        if(lst[i][num_at] == 'yes'):\n",
    "            for j in range(0, num_at):\n",
    "                if(hypothesis[j]=='0' or hypothesis[j]==lst[i][j]):\n",
    "                    hypothesis[j] = lst[i][j]\n",
    "                else:\n",
    "                    hypothesis[j] = '?'\n",
    "                print(hypothesis)\n",
    "    print(\"\\nThe hypothesis for the training instance {} is:\" .format(i), hypothesis)\n",
    "    print(\"The specific hypothesis for the training instance is:\",hypothesis)"
   ]
  },
  {
   "cell_type": "code",
   "execution_count": null,
   "id": "054ae305",
   "metadata": {},
   "outputs": [],
   "source": []
  },
  {
   "cell_type": "code",
   "execution_count": null,
   "id": "29f282e8",
   "metadata": {},
   "outputs": [],
   "source": []
  }
 ],
 "metadata": {
  "kernelspec": {
   "display_name": "Python 3 (ipykernel)",
   "language": "python",
   "name": "python3"
  },
  "language_info": {
   "codemirror_mode": {
    "name": "ipython",
    "version": 3
   },
   "file_extension": ".py",
   "mimetype": "text/x-python",
   "name": "python",
   "nbconvert_exporter": "python",
   "pygments_lexer": "ipython3",
   "version": "3.9.13"
  }
 },
 "nbformat": 4,
 "nbformat_minor": 5
}
