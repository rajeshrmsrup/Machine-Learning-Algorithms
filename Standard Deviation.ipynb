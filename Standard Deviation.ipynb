{
 "cells": [
  {
   "cell_type": "code",
   "execution_count": 4,
   "id": "92980396",
   "metadata": {},
   "outputs": [
    {
     "name": "stdout",
     "output_type": "stream",
     "text": [
      "SD =  15.756968956847974\n"
     ]
    }
   ],
   "source": [
    "import math\n",
    "# Function to find mean of grouped data.\n",
    "def mean( mid, freq, n):\n",
    "    sum = 0\n",
    "    freqSum = 0\n",
    "    for i in range(0,n):\n",
    "        sum = sum + mid[i] * freq[i]\n",
    "        freqSum = freqSum + freq[i]\n",
    "    return sum / freqSum\n",
    " \n",
    "# Function to find standard deviation of grouped data.\n",
    "def groupedSD(lower_limit, upper_limit ,freq , n):\n",
    "    mid=[[0] for i in range(0,n)]\n",
    "    sum = 0\n",
    "    freqSum = 0\n",
    "    sd=0\n",
    "    for i in range(0,n):\n",
    "        mid[i] = (lower_limit[i] + upper_limit[i]) / 2\n",
    "        sum = sum + freq[i] * mid[i] * mid[i]\n",
    "        freqSum = freqSum + freq[i]\n",
    "    # Formula to find standard deviation of grouped data.\n",
    "    sd = math.sqrt((sum - freqSum * mean(mid, freq, n)* mean(mid, freq, n)) / (freqSum - 1))\n",
    "    return sd\n",
    "\n",
    "\n",
    "lower_limit= [ 50, 61, 71, 86, 96 ]\n",
    "upper_limit= [ 60, 70, 85, 95, 100 ]\n",
    "freq =[ 9, 7, 9, 12, 8 ]\n",
    "  \n",
    "# Calculating the size of array.\n",
    "n = len(lower_limit)\n",
    "print(\"SD = \", groupedSD(lower_limit, upper_limit, freq, n))"
   ]
  },
  {
   "cell_type": "code",
   "execution_count": null,
   "id": "708eb62e",
   "metadata": {},
   "outputs": [],
   "source": []
  }
 ],
 "metadata": {
  "kernelspec": {
   "display_name": "Python 3 (ipykernel)",
   "language": "python",
   "name": "python3"
  },
  "language_info": {
   "codemirror_mode": {
    "name": "ipython",
    "version": 3
   },
   "file_extension": ".py",
   "mimetype": "text/x-python",
   "name": "python",
   "nbconvert_exporter": "python",
   "pygments_lexer": "ipython3",
   "version": "3.9.13"
  }
 },
 "nbformat": 4,
 "nbformat_minor": 5
}
