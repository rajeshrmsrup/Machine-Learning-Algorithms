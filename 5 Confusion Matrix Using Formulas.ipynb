{
 "cells": [
  {
   "cell_type": "markdown",
   "id": "54bd321d",
   "metadata": {},
   "source": [
    "### // Implementation of Confusion Matrix using formulas. //"
   ]
  },
  {
   "cell_type": "code",
   "execution_count": 1,
   "id": "5199d741",
   "metadata": {},
   "outputs": [
    {
     "name": "stdout",
     "output_type": "stream",
     "text": [
      "TP =  2\n",
      "TN =  5\n",
      "FP =  1\n",
      "FN =  2\n"
     ]
    }
   ],
   "source": [
    "act = [1, 0, 0, 1, 0, 0, 1, 0, 0, 1]\n",
    "pre = [1, 0, 0, 1, 0, 0, 0, 1, 0, 0]\n",
    "tp=0\n",
    "tn=0\n",
    "fp=0\n",
    "fn=0\n",
    "for i in range(0, len(act)):\n",
    "    if(act[i]==1 and pre[i]==1):\n",
    "        tp += 1\n",
    "    elif(act[i]==0 and pre[i]==0):\n",
    "        tn += 1\n",
    "    elif(act[i]==0 and pre[i]== 1):\n",
    "        fp += 1\n",
    "    else:\n",
    "        fn += 1\n",
    "print(\"TP = \",tp)\n",
    "print(\"TN = \",tn)\n",
    "print(\"FP = \",fp)\n",
    "print(\"FN = \",fn)"
   ]
  },
  {
   "cell_type": "code",
   "execution_count": 2,
   "id": "67ea851c",
   "metadata": {},
   "outputs": [
    {
     "name": "stdout",
     "output_type": "stream",
     "text": [
      "Precision:  0.6666666666666666\n",
      "Recall:  0.5\n",
      "F1 Score:  0.5714285714285715\n",
      "Accuracy:  0.7\n"
     ]
    }
   ],
   "source": [
    "prec = tp/(tp+fp)\n",
    "rec = tp/(tp+fn)\n",
    "print(\"Precision: \", prec)\n",
    "print(\"Recall: \", rec)\n",
    "print(\"F1 Score: \", (2*prec*rec)/(prec+rec))\n",
    "print(\"Accuracy: \", (tp+tn)/(tp+tn+fp+fn))"
   ]
  },
  {
   "cell_type": "code",
   "execution_count": null,
   "id": "011661e6",
   "metadata": {},
   "outputs": [],
   "source": []
  }
 ],
 "metadata": {
  "kernelspec": {
   "display_name": "Python 3 (ipykernel)",
   "language": "python",
   "name": "python3"
  },
  "language_info": {
   "codemirror_mode": {
    "name": "ipython",
    "version": 3
   },
   "file_extension": ".py",
   "mimetype": "text/x-python",
   "name": "python",
   "nbconvert_exporter": "python",
   "pygments_lexer": "ipython3",
   "version": "3.9.13"
  }
 },
 "nbformat": 4,
 "nbformat_minor": 5
}
