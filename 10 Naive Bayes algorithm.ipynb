{
 "cells": [
  {
   "cell_type": "markdown",
   "id": "74c7dbb7",
   "metadata": {},
   "source": [
    "# Naive Bayes"
   ]
  },
  {
   "cell_type": "code",
   "execution_count": 1,
   "id": "3859fd7b",
   "metadata": {},
   "outputs": [
    {
     "name": "stdout",
     "output_type": "stream",
     "text": [
      "The 1st 5 values of data is:\n",
      "     Outlook Temperature Humidity  Windy Play Tennis\n",
      "0     sunny         hot     High  False          NO\n",
      "1     sunny         hot     High   True          NO\n",
      "2  Overcast         hot     High  False         YES\n",
      "3     Rainy        Mild     High  False         YES\n",
      "4     Rainy        Cool   Normal  False         YES\n",
      "\n",
      "The 1st 5 values of train data is:\n",
      "     Outlook Temperature Humidity  Windy\n",
      "0     sunny         hot     High  False\n",
      "1     sunny         hot     High   True\n",
      "2  Overcast         hot     High  False\n",
      "3     Rainy        Mild     High  False\n",
      "4     Rainy        Cool   Normal  False\n",
      "\n",
      "The 1st 5 values of train data is:\n",
      " 0     NO\n",
      "1     NO\n",
      "2    YES\n",
      "3    YES\n",
      "4    YES\n",
      "Name: Play Tennis, dtype: object\n",
      "\n",
      "Now the train data is:\n",
      "    Outlook  Temperature  Humidity  Windy\n",
      "0        2            2         0      0\n",
      "1        2            2         0      1\n",
      "2        0            2         0      0\n",
      "3        1            1         0      0\n",
      "4        1            0         1      0\n",
      "\n",
      "Now the train data is:\n",
      " [0 0 1 1 1 0 1 0 1 1 1 1 1 0]\n",
      "Accuracy is:  1.0\n"
     ]
    }
   ],
   "source": [
    "# Naive Bayes\n",
    "import pandas as pd\n",
    "from sklearn.preprocessing import LabelEncoder\n",
    "from sklearn.naive_bayes import GaussianNB\n",
    "\n",
    "data = pd.read_csv('tennis.csv')\n",
    "print(\"The 1st 5 values of data is:\\n\",data.head())\n",
    "\n",
    "x = data.iloc[:,:-1]\n",
    "print(\"\\nThe 1st 5 values of train data is:\\n\",x.head())\n",
    "y = data.iloc[:,-1]\n",
    "print(\"\\nThe 1st 5 values of train data is:\\n\",y.head())\n",
    "\n",
    "le_outlook = LabelEncoder()\n",
    "x.Outlook = le_outlook.fit_transform(x.Outlook)\n",
    "le_temperature = LabelEncoder()\n",
    "x.Temperature = le_temperature.fit_transform(x.Temperature)\n",
    "le_humidity = LabelEncoder()\n",
    "x.Humidity = le_humidity.fit_transform(x.Humidity)\n",
    "le_windy = LabelEncoder()\n",
    "x.Windy =le_windy.fit_transform(x.Windy)\n",
    "print(\"\\nNow the train data is:\\n\", x.head())\n",
    "\n",
    "le_playTannis = LabelEncoder()\n",
    "y = le_playTannis.fit_transform(y)\n",
    "print(\"\\nNow the train data is:\\n\", y)\n",
    "\n",
    "\n",
    "\n",
    "from sklearn.model_selection import train_test_split\n",
    "# splitting X and y into training and testing sets\n",
    "xtrain, xtest, ytrain, ytest = train_test_split(x, y, test_size=0.20)\n",
    "\n",
    "# training the model on training set\n",
    "classifier = GaussianNB()\n",
    "classifier.fit(xtrain, ytrain)\n",
    "\n",
    "from sklearn.metrics import accuracy_score as ac\n",
    "print(\"Accuracy is: \", ac(classifier.predict(xtest), ytest))"
   ]
  },
  {
   "cell_type": "code",
   "execution_count": null,
   "id": "61e2a0a5",
   "metadata": {},
   "outputs": [],
   "source": []
  }
 ],
 "metadata": {
  "kernelspec": {
   "display_name": "Python 3 (ipykernel)",
   "language": "python",
   "name": "python3"
  },
  "language_info": {
   "codemirror_mode": {
    "name": "ipython",
    "version": 3
   },
   "file_extension": ".py",
   "mimetype": "text/x-python",
   "name": "python",
   "nbconvert_exporter": "python",
   "pygments_lexer": "ipython3",
   "version": "3.9.13"
  }
 },
 "nbformat": 4,
 "nbformat_minor": 5
}
